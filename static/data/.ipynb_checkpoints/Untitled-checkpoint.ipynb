{
 "cells": [
  {
   "cell_type": "code",
   "execution_count": 1,
   "metadata": {},
   "outputs": [],
   "source": [
    "from flask import Flask, Response\n",
    "import json\n",
    "import urllib\n",
    "from urllib.request import urlopen\n",
    "import csv\n",
    "import pandas as pd\n",
    "import numpy as np\n",
    "from sklearn import preprocessing\n",
    "from sklearn.naive_bayes import GaussianNB\n",
    "from sklearn.svm import SVC\n",
    "from sklearn.linear_model import LinearRegression, LogisticRegression\n",
    "from sklearn.metrics import accuracy_score, precision_score"
   ]
  },
  {
   "cell_type": "code",
   "execution_count": 13,
   "metadata": {},
   "outputs": [],
   "source": [
    "i = 100"
   ]
  },
  {
   "cell_type": "code",
   "execution_count": 14,
   "metadata": {},
   "outputs": [],
   "source": [
    "def encode_numeric_range(df, name, normalized_low=0, normalized_high=1,\n",
    "                         data_low=None, data_high=None):\n",
    "    i = 200\n",
    "    if data_low is None:\n",
    "        data_low = min(df[name])\n",
    "        data_high = max(df[name])\n",
    "\n",
    "    df[name] = ((df[name] - data_low) / (data_high - data_low)) \\\n",
    "               * (normalized_high - normalized_low) + normalized_low"
   ]
  },
  {
   "cell_type": "code",
   "execution_count": 15,
   "metadata": {},
   "outputs": [
    {
     "name": "stdout",
     "output_type": "stream",
     "text": [
      "100\n",
      "100\n",
      "100\n",
      "100\n",
      "100\n"
     ]
    },
    {
     "name": "stderr",
     "output_type": "stream",
     "text": [
      "/anaconda3/lib/python3.7/site-packages/sklearn/utils/validation.py:761: DataConversionWarning: A column-vector y was passed when a 1d array was expected. Please change the shape of y to (n_samples, ), for example using ravel().\n",
      "  y = column_or_1d(y, warn=True)\n"
     ]
    }
   ],
   "source": [
    "data_df= pd.read_csv('weather.csv', delimiter =\",\")\n",
    "data_df['Date'] = pd.date_range(start='1/1/2018', periods=366)\n",
    "data_df[\"Prediction\"] = data_df[\"RainTomorrow\"]\n",
    "columns=[\"Date\",\"MinTemp\", \"MaxTemp\", \"Rainfall\" ,\"Humidity9am\" ,\"Humidity3pm\" ,\"RainToday\", \"RainTomorrow\", \"Prediction\"]\n",
    "data_df_final = pd.DataFrame(data_df, columns=columns)\n",
    "encode_numeric_range(data_df_final, \"MinTemp\")\n",
    "encode_numeric_range(data_df_final, \"MaxTemp\")\n",
    "encode_numeric_range(data_df_final, \"Rainfall\")\n",
    "encode_numeric_range(data_df_final, \"Humidity9am\")\n",
    "encode_numeric_range(data_df_final, \"Humidity3pm\")\n",
    "\n",
    "x_cols=[\"MinTemp\", \"MaxTemp\", \"Rainfall\" ,\"Humidity9am\" ,\"Humidity3pm\" ,\"RainToday\"]\n",
    "y_col = [\"RainTomorrow\"]\n",
    "\n",
    "x_df = pd.DataFrame(data_df_final, columns = x_cols)\n",
    "y_df = pd.DataFrame(data_df_final, columns = y_col)\n",
    "\n",
    "le = preprocessing.LabelEncoder()\n",
    "x_df['RainToday'] = le.fit_transform(x_df['RainToday'])\n",
    "\n",
    "clf = GaussianNB()\n",
    "clf.fit(x_df, y_df)\n",
    "\n",
    "pred = clf.predict(x_df)\n",
    "\n",
    "data_df['Prediction'] = pred"
   ]
  },
  {
   "cell_type": "code",
   "execution_count": 16,
   "metadata": {},
   "outputs": [
    {
     "data": {
      "text/plain": [
       "0.8278688524590164"
      ]
     },
     "execution_count": 16,
     "metadata": {},
     "output_type": "execute_result"
    }
   ],
   "source": [
    "accuracy_score(y_df, pred)"
   ]
  },
  {
   "cell_type": "code",
   "execution_count": 17,
   "metadata": {},
   "outputs": [
    {
     "name": "stdout",
     "output_type": "stream",
     "text": [
      "0.5294117647058824\n",
      "0.8761904761904762\n"
     ]
    }
   ],
   "source": [
    "print(precision_score(y_df, pred, pos_label='Yes'))\n",
    "print(precision_score(y_df, pred, pos_label='No'))"
   ]
  },
  {
   "cell_type": "code",
   "execution_count": 18,
   "metadata": {},
   "outputs": [
    {
     "name": "stdout",
     "output_type": "stream",
     "text": [
      "100\n",
      "100\n",
      "100\n",
      "100\n",
      "100\n"
     ]
    },
    {
     "name": "stderr",
     "output_type": "stream",
     "text": [
      "/anaconda3/lib/python3.7/site-packages/sklearn/linear_model/logistic.py:433: FutureWarning: Default solver will be changed to 'lbfgs' in 0.22. Specify a solver to silence this warning.\n",
      "  FutureWarning)\n",
      "/anaconda3/lib/python3.7/site-packages/sklearn/utils/validation.py:761: DataConversionWarning: A column-vector y was passed when a 1d array was expected. Please change the shape of y to (n_samples, ), for example using ravel().\n",
      "  y = column_or_1d(y, warn=True)\n"
     ]
    }
   ],
   "source": [
    "data_df= pd.read_csv('weather.csv', delimiter =\",\")\n",
    "data_df['Date'] = pd.date_range(start='1/1/2018', periods=366)\n",
    "data_df[\"Prediction\"] = data_df[\"RainTomorrow\"]\n",
    "columns=[\"Date\",\"MinTemp\", \"MaxTemp\", \"Rainfall\" ,\"Humidity9am\" ,\"Humidity3pm\" ,\"RainToday\", \"RainTomorrow\", \"Prediction\"]\n",
    "data_df_final = pd.DataFrame(data_df, columns=columns)\n",
    "encode_numeric_range(data_df_final, \"MinTemp\")\n",
    "encode_numeric_range(data_df_final, \"MaxTemp\")\n",
    "encode_numeric_range(data_df_final, \"Rainfall\")\n",
    "encode_numeric_range(data_df_final, \"Humidity9am\")\n",
    "encode_numeric_range(data_df_final, \"Humidity3pm\")\n",
    "\n",
    "x_cols=[\"MinTemp\", \"MaxTemp\", \"Rainfall\" ,\"Humidity9am\" ,\"Humidity3pm\" ,\"RainToday\"]\n",
    "y_col = [\"RainTomorrow\"]\n",
    "\n",
    "x_df = pd.DataFrame(data_df_final, columns = x_cols)\n",
    "y_df = pd.DataFrame(data_df_final, columns = y_col)\n",
    "\n",
    "le = preprocessing.LabelEncoder()\n",
    "x_df['RainToday'] = le.fit_transform(x_df['RainToday'])\n",
    "\n",
    "clf = LogisticRegression()\n",
    "clf.fit(x_df, y_df)\n",
    "\n",
    "pred = clf.predict(x_df)\n",
    "\n",
    "data_df['Prediction'] = pred"
   ]
  },
  {
   "cell_type": "code",
   "execution_count": 19,
   "metadata": {},
   "outputs": [
    {
     "data": {
      "text/plain": [
       "0.8278688524590164"
      ]
     },
     "execution_count": 19,
     "metadata": {},
     "output_type": "execute_result"
    }
   ],
   "source": [
    "accuracy_score(y_df, pred)"
   ]
  },
  {
   "cell_type": "code",
   "execution_count": 20,
   "metadata": {},
   "outputs": [
    {
     "name": "stdout",
     "output_type": "stream",
     "text": [
      "0.6666666666666666\n",
      "0.8319327731092437\n"
     ]
    }
   ],
   "source": [
    "print(precision_score(y_df, pred, pos_label='Yes'))\n",
    "print(precision_score(y_df, pred, pos_label='No'))"
   ]
  },
  {
   "cell_type": "code",
   "execution_count": 21,
   "metadata": {},
   "outputs": [
    {
     "name": "stdout",
     "output_type": "stream",
     "text": [
      "100\n",
      "100\n",
      "100\n",
      "100\n",
      "100\n"
     ]
    },
    {
     "name": "stderr",
     "output_type": "stream",
     "text": [
      "/anaconda3/lib/python3.7/site-packages/sklearn/utils/validation.py:761: DataConversionWarning: A column-vector y was passed when a 1d array was expected. Please change the shape of y to (n_samples, ), for example using ravel().\n",
      "  y = column_or_1d(y, warn=True)\n",
      "/anaconda3/lib/python3.7/site-packages/sklearn/svm/base.py:196: FutureWarning: The default value of gamma will change from 'auto' to 'scale' in version 0.22 to account better for unscaled features. Set gamma explicitly to 'auto' or 'scale' to avoid this warning.\n",
      "  \"avoid this warning.\", FutureWarning)\n"
     ]
    }
   ],
   "source": [
    "data_df= pd.read_csv('weather.csv', delimiter =\",\")\n",
    "data_df['Date'] = pd.date_range(start='1/1/2018', periods=366)\n",
    "data_df[\"Prediction\"] = data_df[\"RainTomorrow\"]\n",
    "columns=[\"Date\",\"MinTemp\", \"MaxTemp\", \"Rainfall\" ,\"Humidity9am\" ,\"Humidity3pm\" ,\"RainToday\", \"RainTomorrow\", \"Prediction\"]\n",
    "data_df_final = pd.DataFrame(data_df, columns=columns)\n",
    "encode_numeric_range(data_df_final, \"MinTemp\")\n",
    "encode_numeric_range(data_df_final, \"MaxTemp\")\n",
    "encode_numeric_range(data_df_final, \"Rainfall\")\n",
    "encode_numeric_range(data_df_final, \"Humidity9am\")\n",
    "encode_numeric_range(data_df_final, \"Humidity3pm\")\n",
    "\n",
    "x_cols=[\"MinTemp\", \"MaxTemp\", \"Rainfall\" ,\"Humidity9am\" ,\"Humidity3pm\" ,\"RainToday\"]\n",
    "y_col = [\"RainTomorrow\"]\n",
    "\n",
    "x_df = pd.DataFrame(data_df_final, columns = x_cols)\n",
    "y_df = pd.DataFrame(data_df_final, columns = y_col)\n",
    "\n",
    "le = preprocessing.LabelEncoder()\n",
    "x_df['RainToday'] = le.fit_transform(x_df['RainToday'])\n",
    "\n",
    "clf = SVC()\n",
    "clf.fit(x_df, y_df)\n",
    "\n",
    "pred = clf.predict(x_df)\n",
    "\n",
    "data_df['Prediction'] = pred"
   ]
  },
  {
   "cell_type": "code",
   "execution_count": 22,
   "metadata": {},
   "outputs": [
    {
     "data": {
      "text/plain": [
       "0.819672131147541"
      ]
     },
     "execution_count": 22,
     "metadata": {},
     "output_type": "execute_result"
    }
   ],
   "source": [
    "accuracy_score(y_df, pred)"
   ]
  },
  {
   "cell_type": "code",
   "execution_count": 23,
   "metadata": {},
   "outputs": [
    {
     "name": "stdout",
     "output_type": "stream",
     "text": [
      "0.0\n",
      "0.819672131147541\n"
     ]
    },
    {
     "name": "stderr",
     "output_type": "stream",
     "text": [
      "/anaconda3/lib/python3.7/site-packages/sklearn/metrics/classification.py:1143: UndefinedMetricWarning: Precision is ill-defined and being set to 0.0 due to no predicted samples.\n",
      "  'precision', 'predicted', average, warn_for)\n"
     ]
    }
   ],
   "source": [
    "print(precision_score(y_df, pred, pos_label='Yes'))\n",
    "print(precision_score(y_df, pred, pos_label='No'))"
   ]
  },
  {
   "cell_type": "code",
   "execution_count": null,
   "metadata": {},
   "outputs": [],
   "source": []
  }
 ],
 "metadata": {
  "kernelspec": {
   "display_name": "Python 3",
   "language": "python",
   "name": "python3"
  },
  "language_info": {
   "codemirror_mode": {
    "name": "ipython",
    "version": 3
   },
   "file_extension": ".py",
   "mimetype": "text/x-python",
   "name": "python",
   "nbconvert_exporter": "python",
   "pygments_lexer": "ipython3",
   "version": "3.7.3"
  }
 },
 "nbformat": 4,
 "nbformat_minor": 2
}
